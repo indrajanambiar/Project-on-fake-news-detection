{
 "cells": [
  {
   "cell_type": "markdown",
   "id": "ec334d71",
   "metadata": {},
   "source": [
    "# Fake News Detection with Machine Learning\n",
    "\n",
    "Mini Project - Indraja Nambiar and Royce Geo\n",
    "\n",
    "\n",
    "## Dataset Variables :\n",
    "    1. Text - Text contains content of the news\n",
    "    2. Author - Author contains the source of news\n",
    "    3. Title - Title contains headline of the news\n",
    "    4. Label- Label marks the news as Fake or Real(Fake=0 and Real = 1)\n",
    "\n",
    "## Machine Learning Models used :\n",
    "    1. Logistic Regression\n",
    "    2. Decision Tree\n",
    "    3. Random Forest\n",
    "    4. KNN\n",
    "    "
   ]
  },
  {
   "cell_type": "markdown",
   "id": "727a4e8f",
   "metadata": {},
   "source": [
    "## Import required packages"
   ]
  },
  {
   "cell_type": "code",
   "execution_count": 1,
   "id": "5ffd2aa8",
   "metadata": {},
   "outputs": [
    {
     "name": "stderr",
     "output_type": "stream",
     "text": [
      "[nltk_data] Downloading package punkt to\n",
      "[nltk_data]     /Users/indrajanambiar/nltk_data...\n",
      "[nltk_data]   Package punkt is already up-to-date!\n",
      "[nltk_data] Downloading package wordnet to\n",
      "[nltk_data]     /Users/indrajanambiar/nltk_data...\n",
      "[nltk_data]   Package wordnet is already up-to-date!\n"
     ]
    }
   ],
   "source": [
    "import pandas as pd\n",
    "import numpy as np\n",
    "\n",
    "import nltk\n",
    "import re\n",
    "from nltk.corpus import stopwords\n",
    "from nltk.stem.porter import PorterStemmer\n",
    "from sklearn.feature_extraction.text import TfidfVectorizer\n",
    "from sklearn.pipeline import Pipeline\n",
    "nltk.download('punkt')\n",
    "nltk.download('wordnet')\n",
    "from nltk import sent_tokenize, word_tokenize\n",
    "\n",
    "from sklearn.model_selection import train_test_split\n",
    "\n",
    "from sklearn.metrics import accuracy_score\n",
    "from sklearn.metrics import f1_score\n",
    "from sklearn.metrics import classification_report\n",
    "from sklearn.metrics import confusion_matrix\n",
    "from sklearn import metrics\n"
   ]
  },
  {
   "cell_type": "code",
   "execution_count": 2,
   "id": "bb98c287",
   "metadata": {},
   "outputs": [],
   "source": [
    "data= pd.read_csv(\"/Users/indrajanambiar/Downloads/raifinaldataset.csv\")   # Load dataset"
   ]
  },
  {
   "cell_type": "code",
   "execution_count": 3,
   "id": "d785314d",
   "metadata": {},
   "outputs": [
    {
     "data": {
      "text/html": [
       "<div>\n",
       "<style scoped>\n",
       "    .dataframe tbody tr th:only-of-type {\n",
       "        vertical-align: middle;\n",
       "    }\n",
       "\n",
       "    .dataframe tbody tr th {\n",
       "        vertical-align: top;\n",
       "    }\n",
       "\n",
       "    .dataframe thead th {\n",
       "        text-align: right;\n",
       "    }\n",
       "</style>\n",
       "<table border=\"1\" class=\"dataframe\">\n",
       "  <thead>\n",
       "    <tr style=\"text-align: right;\">\n",
       "      <th></th>\n",
       "      <th>Unnamed: 0</th>\n",
       "      <th>text</th>\n",
       "      <th>author</th>\n",
       "      <th>title</th>\n",
       "      <th>label</th>\n",
       "    </tr>\n",
       "  </thead>\n",
       "  <tbody>\n",
       "    <tr>\n",
       "      <th>0</th>\n",
       "      <td>0</td>\n",
       "      <td>American football is not a real sport.</td>\n",
       "      <td>misbar.com</td>\n",
       "      <td>American Football is Considered a Sport | Misbar</td>\n",
       "      <td>0</td>\n",
       "    </tr>\n",
       "    <tr>\n",
       "      <th>1</th>\n",
       "      <td>1</td>\n",
       "      <td>नीता अंबानी को खेल रत्न पुरस्कार दिया गया</td>\n",
       "      <td>hindi.boomlive.in</td>\n",
       "      <td>वायरल पोस्ट का दावा, नीता अंबानी को दिया गया ख...</td>\n",
       "      <td>0</td>\n",
       "    </tr>\n",
       "    <tr>\n",
       "      <th>2</th>\n",
       "      <td>2</td>\n",
       "      <td>U.S. President Joe Biden’s January executive o...</td>\n",
       "      <td>snopes.com</td>\n",
       "      <td>Did Biden's Exec Order Say Schools Should Incl...</td>\n",
       "      <td>1</td>\n",
       "    </tr>\n",
       "    <tr>\n",
       "      <th>3</th>\n",
       "      <td>3</td>\n",
       "      <td>The Lanka Premier League was the biggest sport...</td>\n",
       "      <td>boomlive.in</td>\n",
       "      <td>Was Lanka Premier League The Biggest Sporting ...</td>\n",
       "      <td>0</td>\n",
       "    </tr>\n",
       "    <tr>\n",
       "      <th>4</th>\n",
       "      <td>4</td>\n",
       "      <td>Badminton player PV Sindhu announces retirement</td>\n",
       "      <td>thequint.com</td>\n",
       "      <td>PV Sindhu Didn't Announce Retirement From Spor...</td>\n",
       "      <td>0</td>\n",
       "    </tr>\n",
       "    <tr>\n",
       "      <th>...</th>\n",
       "      <td>...</td>\n",
       "      <td>...</td>\n",
       "      <td>...</td>\n",
       "      <td>...</td>\n",
       "      <td>...</td>\n",
       "    </tr>\n",
       "    <tr>\n",
       "      <th>60679</th>\n",
       "      <td>60658</td>\n",
       "      <td>UNITED NATIONS (Reuters) - Two North Korean sh...</td>\n",
       "      <td>NaN</td>\n",
       "      <td>North Korea shipments to Syria chemical arms a...</td>\n",
       "      <td>1</td>\n",
       "    </tr>\n",
       "    <tr>\n",
       "      <th>60680</th>\n",
       "      <td>60659</td>\n",
       "      <td>LONDON (Reuters) - LexisNexis, a provider of l...</td>\n",
       "      <td>NaN</td>\n",
       "      <td>LexisNexis withdrew two products from Chinese ...</td>\n",
       "      <td>1</td>\n",
       "    </tr>\n",
       "    <tr>\n",
       "      <th>60681</th>\n",
       "      <td>60660</td>\n",
       "      <td>MINSK (Reuters) - In the shadow of disused Sov...</td>\n",
       "      <td>NaN</td>\n",
       "      <td>Minsk cultural hub becomes haven from authorities</td>\n",
       "      <td>1</td>\n",
       "    </tr>\n",
       "    <tr>\n",
       "      <th>60682</th>\n",
       "      <td>60661</td>\n",
       "      <td>MOSCOW (Reuters) - Vatican Secretary of State ...</td>\n",
       "      <td>NaN</td>\n",
       "      <td>Vatican upbeat on possibility of Pope Francis ...</td>\n",
       "      <td>1</td>\n",
       "    </tr>\n",
       "    <tr>\n",
       "      <th>60683</th>\n",
       "      <td>60662</td>\n",
       "      <td>JAKARTA (Reuters) - Indonesia will buy 11 Sukh...</td>\n",
       "      <td>NaN</td>\n",
       "      <td>Indonesia to buy $1.14 billion worth of Russia...</td>\n",
       "      <td>1</td>\n",
       "    </tr>\n",
       "  </tbody>\n",
       "</table>\n",
       "<p>60684 rows × 5 columns</p>\n",
       "</div>"
      ],
      "text/plain": [
       "       Unnamed: 0                                               text  \\\n",
       "0               0             American football is not a real sport.   \n",
       "1               1          नीता अंबानी को खेल रत्न पुरस्कार दिया गया   \n",
       "2               2  U.S. President Joe Biden’s January executive o...   \n",
       "3               3  The Lanka Premier League was the biggest sport...   \n",
       "4               4    Badminton player PV Sindhu announces retirement   \n",
       "...           ...                                                ...   \n",
       "60679       60658  UNITED NATIONS (Reuters) - Two North Korean sh...   \n",
       "60680       60659  LONDON (Reuters) - LexisNexis, a provider of l...   \n",
       "60681       60660  MINSK (Reuters) - In the shadow of disused Sov...   \n",
       "60682       60661  MOSCOW (Reuters) - Vatican Secretary of State ...   \n",
       "60683       60662  JAKARTA (Reuters) - Indonesia will buy 11 Sukh...   \n",
       "\n",
       "                  author                                              title  \\\n",
       "0             misbar.com   American Football is Considered a Sport | Misbar   \n",
       "1      hindi.boomlive.in  वायरल पोस्ट का दावा, नीता अंबानी को दिया गया ख...   \n",
       "2             snopes.com  Did Biden's Exec Order Say Schools Should Incl...   \n",
       "3            boomlive.in  Was Lanka Premier League The Biggest Sporting ...   \n",
       "4           thequint.com  PV Sindhu Didn't Announce Retirement From Spor...   \n",
       "...                  ...                                                ...   \n",
       "60679                NaN  North Korea shipments to Syria chemical arms a...   \n",
       "60680                NaN  LexisNexis withdrew two products from Chinese ...   \n",
       "60681                NaN  Minsk cultural hub becomes haven from authorities   \n",
       "60682                NaN  Vatican upbeat on possibility of Pope Francis ...   \n",
       "60683                NaN  Indonesia to buy $1.14 billion worth of Russia...   \n",
       "\n",
       "       label  \n",
       "0          0  \n",
       "1          0  \n",
       "2          1  \n",
       "3          0  \n",
       "4          0  \n",
       "...      ...  \n",
       "60679      1  \n",
       "60680      1  \n",
       "60681      1  \n",
       "60682      1  \n",
       "60683      1  \n",
       "\n",
       "[60684 rows x 5 columns]"
      ]
     },
     "execution_count": 3,
     "metadata": {},
     "output_type": "execute_result"
    }
   ],
   "source": [
    "data"
   ]
  },
  {
   "cell_type": "code",
   "execution_count": 4,
   "id": "b2a60ec0",
   "metadata": {},
   "outputs": [
    {
     "data": {
      "text/html": [
       "<div>\n",
       "<style scoped>\n",
       "    .dataframe tbody tr th:only-of-type {\n",
       "        vertical-align: middle;\n",
       "    }\n",
       "\n",
       "    .dataframe tbody tr th {\n",
       "        vertical-align: top;\n",
       "    }\n",
       "\n",
       "    .dataframe thead th {\n",
       "        text-align: right;\n",
       "    }\n",
       "</style>\n",
       "<table border=\"1\" class=\"dataframe\">\n",
       "  <thead>\n",
       "    <tr style=\"text-align: right;\">\n",
       "      <th></th>\n",
       "      <th>Unnamed: 0</th>\n",
       "      <th>text</th>\n",
       "      <th>author</th>\n",
       "      <th>title</th>\n",
       "      <th>label</th>\n",
       "    </tr>\n",
       "  </thead>\n",
       "  <tbody>\n",
       "    <tr>\n",
       "      <th>0</th>\n",
       "      <td>0</td>\n",
       "      <td>American football is not a real sport.</td>\n",
       "      <td>misbar.com</td>\n",
       "      <td>American Football is Considered a Sport | Misbar</td>\n",
       "      <td>0</td>\n",
       "    </tr>\n",
       "    <tr>\n",
       "      <th>1</th>\n",
       "      <td>1</td>\n",
       "      <td>नीता अंबानी को खेल रत्न पुरस्कार दिया गया</td>\n",
       "      <td>hindi.boomlive.in</td>\n",
       "      <td>वायरल पोस्ट का दावा, नीता अंबानी को दिया गया ख...</td>\n",
       "      <td>0</td>\n",
       "    </tr>\n",
       "    <tr>\n",
       "      <th>2</th>\n",
       "      <td>2</td>\n",
       "      <td>U.S. President Joe Biden’s January executive o...</td>\n",
       "      <td>snopes.com</td>\n",
       "      <td>Did Biden's Exec Order Say Schools Should Incl...</td>\n",
       "      <td>1</td>\n",
       "    </tr>\n",
       "    <tr>\n",
       "      <th>3</th>\n",
       "      <td>3</td>\n",
       "      <td>The Lanka Premier League was the biggest sport...</td>\n",
       "      <td>boomlive.in</td>\n",
       "      <td>Was Lanka Premier League The Biggest Sporting ...</td>\n",
       "      <td>0</td>\n",
       "    </tr>\n",
       "    <tr>\n",
       "      <th>4</th>\n",
       "      <td>4</td>\n",
       "      <td>Badminton player PV Sindhu announces retirement</td>\n",
       "      <td>thequint.com</td>\n",
       "      <td>PV Sindhu Didn't Announce Retirement From Spor...</td>\n",
       "      <td>0</td>\n",
       "    </tr>\n",
       "  </tbody>\n",
       "</table>\n",
       "</div>"
      ],
      "text/plain": [
       "   Unnamed: 0                                               text  \\\n",
       "0           0             American football is not a real sport.   \n",
       "1           1          नीता अंबानी को खेल रत्न पुरस्कार दिया गया   \n",
       "2           2  U.S. President Joe Biden’s January executive o...   \n",
       "3           3  The Lanka Premier League was the biggest sport...   \n",
       "4           4    Badminton player PV Sindhu announces retirement   \n",
       "\n",
       "              author                                              title  label  \n",
       "0         misbar.com   American Football is Considered a Sport | Misbar      0  \n",
       "1  hindi.boomlive.in  वायरल पोस्ट का दावा, नीता अंबानी को दिया गया ख...      0  \n",
       "2         snopes.com  Did Biden's Exec Order Say Schools Should Incl...      1  \n",
       "3        boomlive.in  Was Lanka Premier League The Biggest Sporting ...      0  \n",
       "4       thequint.com  PV Sindhu Didn't Announce Retirement From Spor...      0  "
      ]
     },
     "execution_count": 4,
     "metadata": {},
     "output_type": "execute_result"
    }
   ],
   "source": [
    "data.head()     # Head of data"
   ]
  },
  {
   "cell_type": "code",
   "execution_count": 5,
   "id": "462c6dda",
   "metadata": {},
   "outputs": [
    {
     "data": {
      "text/plain": [
       "(60684, 5)"
      ]
     },
     "execution_count": 5,
     "metadata": {},
     "output_type": "execute_result"
    }
   ],
   "source": [
    "data.shape   # shape of dataset"
   ]
  },
  {
   "cell_type": "code",
   "execution_count": 6,
   "id": "e409d8f4",
   "metadata": {},
   "outputs": [
    {
     "data": {
      "text/html": [
       "<div>\n",
       "<style scoped>\n",
       "    .dataframe tbody tr th:only-of-type {\n",
       "        vertical-align: middle;\n",
       "    }\n",
       "\n",
       "    .dataframe tbody tr th {\n",
       "        vertical-align: top;\n",
       "    }\n",
       "\n",
       "    .dataframe thead th {\n",
       "        text-align: right;\n",
       "    }\n",
       "</style>\n",
       "<table border=\"1\" class=\"dataframe\">\n",
       "  <thead>\n",
       "    <tr style=\"text-align: right;\">\n",
       "      <th></th>\n",
       "      <th>Unnamed: 0</th>\n",
       "      <th>label</th>\n",
       "    </tr>\n",
       "  </thead>\n",
       "  <tbody>\n",
       "    <tr>\n",
       "      <th>count</th>\n",
       "      <td>60684.000000</td>\n",
       "      <td>60684.000000</td>\n",
       "    </tr>\n",
       "    <tr>\n",
       "      <th>mean</th>\n",
       "      <td>30320.159861</td>\n",
       "      <td>0.517385</td>\n",
       "    </tr>\n",
       "    <tr>\n",
       "      <th>std</th>\n",
       "      <td>17518.488604</td>\n",
       "      <td>0.499702</td>\n",
       "    </tr>\n",
       "    <tr>\n",
       "      <th>min</th>\n",
       "      <td>0.000000</td>\n",
       "      <td>0.000000</td>\n",
       "    </tr>\n",
       "    <tr>\n",
       "      <th>25%</th>\n",
       "      <td>15148.750000</td>\n",
       "      <td>0.000000</td>\n",
       "    </tr>\n",
       "    <tr>\n",
       "      <th>50%</th>\n",
       "      <td>30320.500000</td>\n",
       "      <td>1.000000</td>\n",
       "    </tr>\n",
       "    <tr>\n",
       "      <th>75%</th>\n",
       "      <td>45491.250000</td>\n",
       "      <td>1.000000</td>\n",
       "    </tr>\n",
       "    <tr>\n",
       "      <th>max</th>\n",
       "      <td>60662.000000</td>\n",
       "      <td>1.000000</td>\n",
       "    </tr>\n",
       "  </tbody>\n",
       "</table>\n",
       "</div>"
      ],
      "text/plain": [
       "         Unnamed: 0         label\n",
       "count  60684.000000  60684.000000\n",
       "mean   30320.159861      0.517385\n",
       "std    17518.488604      0.499702\n",
       "min        0.000000      0.000000\n",
       "25%    15148.750000      0.000000\n",
       "50%    30320.500000      1.000000\n",
       "75%    45491.250000      1.000000\n",
       "max    60662.000000      1.000000"
      ]
     },
     "execution_count": 6,
     "metadata": {},
     "output_type": "execute_result"
    }
   ],
   "source": [
    "data.describe()   # Data description"
   ]
  },
  {
   "cell_type": "code",
   "execution_count": 7,
   "id": "a28ad1bb",
   "metadata": {},
   "outputs": [
    {
     "name": "stdout",
     "output_type": "stream",
     "text": [
      "<class 'pandas.core.frame.DataFrame'>\n",
      "RangeIndex: 60684 entries, 0 to 60683\n",
      "Data columns (total 5 columns):\n",
      " #   Column      Non-Null Count  Dtype \n",
      "---  ------      --------------  ----- \n",
      " 0   Unnamed: 0  60684 non-null  int64 \n",
      " 1   text        60683 non-null  object\n",
      " 2   author      38253 non-null  object\n",
      " 3   title       60683 non-null  object\n",
      " 4   label       60684 non-null  int64 \n",
      "dtypes: int64(2), object(3)\n",
      "memory usage: 2.3+ MB\n"
     ]
    }
   ],
   "source": [
    "data.info()   # info of dataset"
   ]
  },
  {
   "cell_type": "code",
   "execution_count": 8,
   "id": "f74614d9",
   "metadata": {},
   "outputs": [
    {
     "data": {
      "text/plain": [
       "1    31397\n",
       "0    29287\n",
       "Name: label, dtype: int64"
      ]
     },
     "execution_count": 8,
     "metadata": {},
     "output_type": "execute_result"
    }
   ],
   "source": [
    "data[\"label\"].value_counts()"
   ]
  },
  {
   "cell_type": "markdown",
   "id": "be2a5093",
   "metadata": {},
   "source": [
    "\n",
    " > In the dataset there are 60684 rows and 5 columns.\n",
    "\n",
    " > There are 60684 labels in which 31397 are Real and 29287 are Fake news.\n",
    "\n",
    " > The text,author and  title are categorical variable and label is numerical variable.\n",
    "\n"
   ]
  },
  {
   "cell_type": "code",
   "execution_count": 9,
   "id": "9a9b46f9",
   "metadata": {},
   "outputs": [
    {
     "data": {
      "text/plain": [
       "Unnamed: 0        0\n",
       "text              1\n",
       "author        22431\n",
       "title             1\n",
       "label             0\n",
       "dtype: int64"
      ]
     },
     "execution_count": 9,
     "metadata": {},
     "output_type": "execute_result"
    }
   ],
   "source": [
    "data.isnull().sum()   # Finding number of null values in each column"
   ]
  },
  {
   "cell_type": "markdown",
   "id": "5aca985b",
   "metadata": {},
   "source": [
    "There are 22431 missing values in author and 1 missing values in text and title."
   ]
  },
  {
   "cell_type": "code",
   "execution_count": 10,
   "id": "d001e52a",
   "metadata": {},
   "outputs": [],
   "source": [
    "data.drop('author',axis=1,inplace =True)\n",
    "\n",
    "# Droped column auther."
   ]
  },
  {
   "cell_type": "code",
   "execution_count": 11,
   "id": "c0dfca44",
   "metadata": {},
   "outputs": [],
   "source": [
    "data.dropna(axis=0,inplace=True) # Droped the missing value"
   ]
  },
  {
   "cell_type": "code",
   "execution_count": 12,
   "id": "254fccf5",
   "metadata": {},
   "outputs": [
    {
     "data": {
      "text/plain": [
       "Unnamed: 0    0\n",
       "text          0\n",
       "title         0\n",
       "label         0\n",
       "dtype: int64"
      ]
     },
     "execution_count": 12,
     "metadata": {},
     "output_type": "execute_result"
    }
   ],
   "source": [
    "data.isnull().sum()"
   ]
  },
  {
   "cell_type": "code",
   "execution_count": 13,
   "id": "b2c3b375",
   "metadata": {},
   "outputs": [
    {
     "data": {
      "text/html": [
       "<div>\n",
       "<style scoped>\n",
       "    .dataframe tbody tr th:only-of-type {\n",
       "        vertical-align: middle;\n",
       "    }\n",
       "\n",
       "    .dataframe tbody tr th {\n",
       "        vertical-align: top;\n",
       "    }\n",
       "\n",
       "    .dataframe thead th {\n",
       "        text-align: right;\n",
       "    }\n",
       "</style>\n",
       "<table border=\"1\" class=\"dataframe\">\n",
       "  <thead>\n",
       "    <tr style=\"text-align: right;\">\n",
       "      <th></th>\n",
       "      <th>Unnamed: 0</th>\n",
       "      <th>text</th>\n",
       "      <th>title</th>\n",
       "      <th>label</th>\n",
       "    </tr>\n",
       "  </thead>\n",
       "  <tbody>\n",
       "    <tr>\n",
       "      <th>0</th>\n",
       "      <td>0</td>\n",
       "      <td>American football is not a real sport.</td>\n",
       "      <td>American Football is Considered a Sport | Misbar</td>\n",
       "      <td>0</td>\n",
       "    </tr>\n",
       "    <tr>\n",
       "      <th>1</th>\n",
       "      <td>1</td>\n",
       "      <td>नीता अंबानी को खेल रत्न पुरस्कार दिया गया</td>\n",
       "      <td>वायरल पोस्ट का दावा, नीता अंबानी को दिया गया ख...</td>\n",
       "      <td>0</td>\n",
       "    </tr>\n",
       "    <tr>\n",
       "      <th>2</th>\n",
       "      <td>2</td>\n",
       "      <td>U.S. President Joe Biden’s January executive o...</td>\n",
       "      <td>Did Biden's Exec Order Say Schools Should Incl...</td>\n",
       "      <td>1</td>\n",
       "    </tr>\n",
       "    <tr>\n",
       "      <th>3</th>\n",
       "      <td>3</td>\n",
       "      <td>The Lanka Premier League was the biggest sport...</td>\n",
       "      <td>Was Lanka Premier League The Biggest Sporting ...</td>\n",
       "      <td>0</td>\n",
       "    </tr>\n",
       "    <tr>\n",
       "      <th>4</th>\n",
       "      <td>4</td>\n",
       "      <td>Badminton player PV Sindhu announces retirement</td>\n",
       "      <td>PV Sindhu Didn't Announce Retirement From Spor...</td>\n",
       "      <td>0</td>\n",
       "    </tr>\n",
       "    <tr>\n",
       "      <th>...</th>\n",
       "      <td>...</td>\n",
       "      <td>...</td>\n",
       "      <td>...</td>\n",
       "      <td>...</td>\n",
       "    </tr>\n",
       "    <tr>\n",
       "      <th>60679</th>\n",
       "      <td>60658</td>\n",
       "      <td>UNITED NATIONS (Reuters) - Two North Korean sh...</td>\n",
       "      <td>North Korea shipments to Syria chemical arms a...</td>\n",
       "      <td>1</td>\n",
       "    </tr>\n",
       "    <tr>\n",
       "      <th>60680</th>\n",
       "      <td>60659</td>\n",
       "      <td>LONDON (Reuters) - LexisNexis, a provider of l...</td>\n",
       "      <td>LexisNexis withdrew two products from Chinese ...</td>\n",
       "      <td>1</td>\n",
       "    </tr>\n",
       "    <tr>\n",
       "      <th>60681</th>\n",
       "      <td>60660</td>\n",
       "      <td>MINSK (Reuters) - In the shadow of disused Sov...</td>\n",
       "      <td>Minsk cultural hub becomes haven from authorities</td>\n",
       "      <td>1</td>\n",
       "    </tr>\n",
       "    <tr>\n",
       "      <th>60682</th>\n",
       "      <td>60661</td>\n",
       "      <td>MOSCOW (Reuters) - Vatican Secretary of State ...</td>\n",
       "      <td>Vatican upbeat on possibility of Pope Francis ...</td>\n",
       "      <td>1</td>\n",
       "    </tr>\n",
       "    <tr>\n",
       "      <th>60683</th>\n",
       "      <td>60662</td>\n",
       "      <td>JAKARTA (Reuters) - Indonesia will buy 11 Sukh...</td>\n",
       "      <td>Indonesia to buy $1.14 billion worth of Russia...</td>\n",
       "      <td>1</td>\n",
       "    </tr>\n",
       "  </tbody>\n",
       "</table>\n",
       "<p>60682 rows × 4 columns</p>\n",
       "</div>"
      ],
      "text/plain": [
       "       Unnamed: 0                                               text  \\\n",
       "0               0             American football is not a real sport.   \n",
       "1               1          नीता अंबानी को खेल रत्न पुरस्कार दिया गया   \n",
       "2               2  U.S. President Joe Biden’s January executive o...   \n",
       "3               3  The Lanka Premier League was the biggest sport...   \n",
       "4               4    Badminton player PV Sindhu announces retirement   \n",
       "...           ...                                                ...   \n",
       "60679       60658  UNITED NATIONS (Reuters) - Two North Korean sh...   \n",
       "60680       60659  LONDON (Reuters) - LexisNexis, a provider of l...   \n",
       "60681       60660  MINSK (Reuters) - In the shadow of disused Sov...   \n",
       "60682       60661  MOSCOW (Reuters) - Vatican Secretary of State ...   \n",
       "60683       60662  JAKARTA (Reuters) - Indonesia will buy 11 Sukh...   \n",
       "\n",
       "                                                   title  label  \n",
       "0       American Football is Considered a Sport | Misbar      0  \n",
       "1      वायरल पोस्ट का दावा, नीता अंबानी को दिया गया ख...      0  \n",
       "2      Did Biden's Exec Order Say Schools Should Incl...      1  \n",
       "3      Was Lanka Premier League The Biggest Sporting ...      0  \n",
       "4      PV Sindhu Didn't Announce Retirement From Spor...      0  \n",
       "...                                                  ...    ...  \n",
       "60679  North Korea shipments to Syria chemical arms a...      1  \n",
       "60680  LexisNexis withdrew two products from Chinese ...      1  \n",
       "60681  Minsk cultural hub becomes haven from authorities      1  \n",
       "60682  Vatican upbeat on possibility of Pope Francis ...      1  \n",
       "60683  Indonesia to buy $1.14 billion worth of Russia...      1  \n",
       "\n",
       "[60682 rows x 4 columns]"
      ]
     },
     "execution_count": 13,
     "metadata": {},
     "output_type": "execute_result"
    }
   ],
   "source": [
    "data"
   ]
  },
  {
   "cell_type": "code",
   "execution_count": 14,
   "id": "22164f95",
   "metadata": {},
   "outputs": [],
   "source": [
    "data.drop(\"Unnamed: 0\",axis=1,inplace=True)  # Droped unnamed column that is Id ."
   ]
  },
  {
   "cell_type": "code",
   "execution_count": 15,
   "id": "9e31366e",
   "metadata": {},
   "outputs": [
    {
     "data": {
      "text/html": [
       "<div>\n",
       "<style scoped>\n",
       "    .dataframe tbody tr th:only-of-type {\n",
       "        vertical-align: middle;\n",
       "    }\n",
       "\n",
       "    .dataframe tbody tr th {\n",
       "        vertical-align: top;\n",
       "    }\n",
       "\n",
       "    .dataframe thead th {\n",
       "        text-align: right;\n",
       "    }\n",
       "</style>\n",
       "<table border=\"1\" class=\"dataframe\">\n",
       "  <thead>\n",
       "    <tr style=\"text-align: right;\">\n",
       "      <th></th>\n",
       "      <th>text</th>\n",
       "      <th>title</th>\n",
       "      <th>label</th>\n",
       "    </tr>\n",
       "  </thead>\n",
       "  <tbody>\n",
       "    <tr>\n",
       "      <th>0</th>\n",
       "      <td>American football is not a real sport.</td>\n",
       "      <td>American Football is Considered a Sport | Misbar</td>\n",
       "      <td>0</td>\n",
       "    </tr>\n",
       "    <tr>\n",
       "      <th>1</th>\n",
       "      <td>नीता अंबानी को खेल रत्न पुरस्कार दिया गया</td>\n",
       "      <td>वायरल पोस्ट का दावा, नीता अंबानी को दिया गया ख...</td>\n",
       "      <td>0</td>\n",
       "    </tr>\n",
       "    <tr>\n",
       "      <th>2</th>\n",
       "      <td>U.S. President Joe Biden’s January executive o...</td>\n",
       "      <td>Did Biden's Exec Order Say Schools Should Incl...</td>\n",
       "      <td>1</td>\n",
       "    </tr>\n",
       "    <tr>\n",
       "      <th>3</th>\n",
       "      <td>The Lanka Premier League was the biggest sport...</td>\n",
       "      <td>Was Lanka Premier League The Biggest Sporting ...</td>\n",
       "      <td>0</td>\n",
       "    </tr>\n",
       "    <tr>\n",
       "      <th>4</th>\n",
       "      <td>Badminton player PV Sindhu announces retirement</td>\n",
       "      <td>PV Sindhu Didn't Announce Retirement From Spor...</td>\n",
       "      <td>0</td>\n",
       "    </tr>\n",
       "    <tr>\n",
       "      <th>...</th>\n",
       "      <td>...</td>\n",
       "      <td>...</td>\n",
       "      <td>...</td>\n",
       "    </tr>\n",
       "    <tr>\n",
       "      <th>60679</th>\n",
       "      <td>UNITED NATIONS (Reuters) - Two North Korean sh...</td>\n",
       "      <td>North Korea shipments to Syria chemical arms a...</td>\n",
       "      <td>1</td>\n",
       "    </tr>\n",
       "    <tr>\n",
       "      <th>60680</th>\n",
       "      <td>LONDON (Reuters) - LexisNexis, a provider of l...</td>\n",
       "      <td>LexisNexis withdrew two products from Chinese ...</td>\n",
       "      <td>1</td>\n",
       "    </tr>\n",
       "    <tr>\n",
       "      <th>60681</th>\n",
       "      <td>MINSK (Reuters) - In the shadow of disused Sov...</td>\n",
       "      <td>Minsk cultural hub becomes haven from authorities</td>\n",
       "      <td>1</td>\n",
       "    </tr>\n",
       "    <tr>\n",
       "      <th>60682</th>\n",
       "      <td>MOSCOW (Reuters) - Vatican Secretary of State ...</td>\n",
       "      <td>Vatican upbeat on possibility of Pope Francis ...</td>\n",
       "      <td>1</td>\n",
       "    </tr>\n",
       "    <tr>\n",
       "      <th>60683</th>\n",
       "      <td>JAKARTA (Reuters) - Indonesia will buy 11 Sukh...</td>\n",
       "      <td>Indonesia to buy $1.14 billion worth of Russia...</td>\n",
       "      <td>1</td>\n",
       "    </tr>\n",
       "  </tbody>\n",
       "</table>\n",
       "<p>60682 rows × 3 columns</p>\n",
       "</div>"
      ],
      "text/plain": [
       "                                                    text  \\\n",
       "0                 American football is not a real sport.   \n",
       "1              नीता अंबानी को खेल रत्न पुरस्कार दिया गया   \n",
       "2      U.S. President Joe Biden’s January executive o...   \n",
       "3      The Lanka Premier League was the biggest sport...   \n",
       "4        Badminton player PV Sindhu announces retirement   \n",
       "...                                                  ...   \n",
       "60679  UNITED NATIONS (Reuters) - Two North Korean sh...   \n",
       "60680  LONDON (Reuters) - LexisNexis, a provider of l...   \n",
       "60681  MINSK (Reuters) - In the shadow of disused Sov...   \n",
       "60682  MOSCOW (Reuters) - Vatican Secretary of State ...   \n",
       "60683  JAKARTA (Reuters) - Indonesia will buy 11 Sukh...   \n",
       "\n",
       "                                                   title  label  \n",
       "0       American Football is Considered a Sport | Misbar      0  \n",
       "1      वायरल पोस्ट का दावा, नीता अंबानी को दिया गया ख...      0  \n",
       "2      Did Biden's Exec Order Say Schools Should Incl...      1  \n",
       "3      Was Lanka Premier League The Biggest Sporting ...      0  \n",
       "4      PV Sindhu Didn't Announce Retirement From Spor...      0  \n",
       "...                                                  ...    ...  \n",
       "60679  North Korea shipments to Syria chemical arms a...      1  \n",
       "60680  LexisNexis withdrew two products from Chinese ...      1  \n",
       "60681  Minsk cultural hub becomes haven from authorities      1  \n",
       "60682  Vatican upbeat on possibility of Pope Francis ...      1  \n",
       "60683  Indonesia to buy $1.14 billion worth of Russia...      1  \n",
       "\n",
       "[60682 rows x 3 columns]"
      ]
     },
     "execution_count": 15,
     "metadata": {},
     "output_type": "execute_result"
    }
   ],
   "source": [
    "data"
   ]
  },
  {
   "cell_type": "markdown",
   "id": "b7961a48",
   "metadata": {},
   "source": [
    "# Text processing"
   ]
  },
  {
   "cell_type": "markdown",
   "id": "6f138195",
   "metadata": {},
   "source": [
    "Combine title and text as all_text\n",
    "\n"
   ]
  },
  {
   "cell_type": "code",
   "execution_count": 16,
   "id": "5fcdeabf",
   "metadata": {},
   "outputs": [],
   "source": [
    "data['all_text'] = data['title'] + data['text']"
   ]
  },
  {
   "cell_type": "code",
   "execution_count": 17,
   "id": "07e099c7",
   "metadata": {},
   "outputs": [],
   "source": [
    "#  tokenization\n",
    "\n",
    "def tokenize(column):\n",
    "    \"\"\"Tokenizes a Pandas dataframe column and returns a list of tokens.\n",
    "    \n",
    "    Args:\n",
    "        column: Pandas dataframe column (i.e. df['text']).\n",
    "    \n",
    "    Returns:\n",
    "        tokens (list): Tokenized list, i.e. [Donald, Trump, tweets]\n",
    "    \n",
    "    \"\"\"\n",
    "    \n",
    "    tokens = nltk.word_tokenize(column)\n",
    "    return [w for w in tokens if w.isalpha()]    "
   ]
  },
  {
   "cell_type": "code",
   "execution_count": 18,
   "id": "fe8a4ec5",
   "metadata": {},
   "outputs": [
    {
     "data": {
      "text/html": [
       "<div>\n",
       "<style scoped>\n",
       "    .dataframe tbody tr th:only-of-type {\n",
       "        vertical-align: middle;\n",
       "    }\n",
       "\n",
       "    .dataframe tbody tr th {\n",
       "        vertical-align: top;\n",
       "    }\n",
       "\n",
       "    .dataframe thead th {\n",
       "        text-align: right;\n",
       "    }\n",
       "</style>\n",
       "<table border=\"1\" class=\"dataframe\">\n",
       "  <thead>\n",
       "    <tr style=\"text-align: right;\">\n",
       "      <th></th>\n",
       "      <th>title</th>\n",
       "      <th>tokenized</th>\n",
       "    </tr>\n",
       "  </thead>\n",
       "  <tbody>\n",
       "    <tr>\n",
       "      <th>0</th>\n",
       "      <td>American Football is Considered a Sport | Misbar</td>\n",
       "      <td>[American, Football, is, Considered, a, Sport,...</td>\n",
       "    </tr>\n",
       "    <tr>\n",
       "      <th>1</th>\n",
       "      <td>वायरल पोस्ट का दावा, नीता अंबानी को दिया गया ख...</td>\n",
       "      <td>[]</td>\n",
       "    </tr>\n",
       "    <tr>\n",
       "      <th>2</th>\n",
       "      <td>Did Biden's Exec Order Say Schools Should Incl...</td>\n",
       "      <td>[Did, Biden, Exec, Order, Say, Schools, Should...</td>\n",
       "    </tr>\n",
       "    <tr>\n",
       "      <th>3</th>\n",
       "      <td>Was Lanka Premier League The Biggest Sporting ...</td>\n",
       "      <td>[Was, Lanka, Premier, League, The, Biggest, Sp...</td>\n",
       "    </tr>\n",
       "    <tr>\n",
       "      <th>4</th>\n",
       "      <td>PV Sindhu Didn't Announce Retirement From Spor...</td>\n",
       "      <td>[PV, Sindhu, Did, Announce, Retirement, From, ...</td>\n",
       "    </tr>\n",
       "  </tbody>\n",
       "</table>\n",
       "</div>"
      ],
      "text/plain": [
       "                                               title  \\\n",
       "0   American Football is Considered a Sport | Misbar   \n",
       "1  वायरल पोस्ट का दावा, नीता अंबानी को दिया गया ख...   \n",
       "2  Did Biden's Exec Order Say Schools Should Incl...   \n",
       "3  Was Lanka Premier League The Biggest Sporting ...   \n",
       "4  PV Sindhu Didn't Announce Retirement From Spor...   \n",
       "\n",
       "                                           tokenized  \n",
       "0  [American, Football, is, Considered, a, Sport,...  \n",
       "1                                                 []  \n",
       "2  [Did, Biden, Exec, Order, Say, Schools, Should...  \n",
       "3  [Was, Lanka, Premier, League, The, Biggest, Sp...  \n",
       "4  [PV, Sindhu, Did, Announce, Retirement, From, ...  "
      ]
     },
     "execution_count": 18,
     "metadata": {},
     "output_type": "execute_result"
    }
   ],
   "source": [
    "data['tokenized'] = data.apply(lambda x: tokenize(x['all_text']), axis=1)\n",
    "data[['title', 'tokenized']].head()"
   ]
  },
  {
   "cell_type": "code",
   "execution_count": 19,
   "id": "06faec49",
   "metadata": {},
   "outputs": [],
   "source": [
    "# Create punctuation features\n",
    "\n",
    "def punctuation_to_features(data, column):\n",
    "    \n",
    "    data[column] = data[column].replace('!', ' exclamation ')\n",
    "    data[column] = data[column].replace('?', ' question ')\n",
    "    data[column] = data[column].replace('\\'', ' quotation ')\n",
    "    data[column] = data[column].replace('\\\"', ' quotation ')\n",
    "    \n",
    "    return data[column]\n"
   ]
  },
  {
   "cell_type": "code",
   "execution_count": 20,
   "id": "60cfa8ad",
   "metadata": {},
   "outputs": [],
   "source": [
    "data['all_text'] = punctuation_to_features(data, 'all_text')"
   ]
  },
  {
   "cell_type": "code",
   "execution_count": 21,
   "id": "93d5cc03",
   "metadata": {},
   "outputs": [
    {
     "data": {
      "text/plain": [
       "0        American Football is Considered a Sport | Misb...\n",
       "1        वायरल पोस्ट का दावा, नीता अंबानी को दिया गया ख...\n",
       "2        Did Biden's Exec Order Say Schools Should Incl...\n",
       "3        Was Lanka Premier League The Biggest Sporting ...\n",
       "4        PV Sindhu Didn't Announce Retirement From Spor...\n",
       "                               ...                        \n",
       "60679    North Korea shipments to Syria chemical arms a...\n",
       "60680    LexisNexis withdrew two products from Chinese ...\n",
       "60681    Minsk cultural hub becomes haven from authorit...\n",
       "60682    Vatican upbeat on possibility of Pope Francis ...\n",
       "60683    Indonesia to buy $1.14 billion worth of Russia...\n",
       "Name: all_text, Length: 60682, dtype: object"
      ]
     },
     "execution_count": 21,
     "metadata": {},
     "output_type": "execute_result"
    }
   ],
   "source": [
    "data['all_text']"
   ]
  },
  {
   "cell_type": "code",
   "execution_count": 22,
   "id": "24569c97",
   "metadata": {},
   "outputs": [
    {
     "name": "stderr",
     "output_type": "stream",
     "text": [
      "[nltk_data] Downloading package stopwords to\n",
      "[nltk_data]     /Users/indrajanambiar/nltk_data...\n",
      "[nltk_data]   Package stopwords is already up-to-date!\n"
     ]
    }
   ],
   "source": [
    "# Remove stopwords\n",
    "\n",
    "nltk.download('stopwords');"
   ]
  },
  {
   "cell_type": "code",
   "execution_count": 23,
   "id": "3cb7105a",
   "metadata": {},
   "outputs": [],
   "source": [
    "def remove_stopwords(tokenized_column):\n",
    "    \n",
    "    stops = set(stopwords.words(\"english\"))\n",
    "    return [word for word in tokenized_column if not word in stops]"
   ]
  },
  {
   "cell_type": "code",
   "execution_count": 24,
   "id": "97ea7630",
   "metadata": {},
   "outputs": [
    {
     "data": {
      "text/html": [
       "<div>\n",
       "<style scoped>\n",
       "    .dataframe tbody tr th:only-of-type {\n",
       "        vertical-align: middle;\n",
       "    }\n",
       "\n",
       "    .dataframe tbody tr th {\n",
       "        vertical-align: top;\n",
       "    }\n",
       "\n",
       "    .dataframe thead th {\n",
       "        text-align: right;\n",
       "    }\n",
       "</style>\n",
       "<table border=\"1\" class=\"dataframe\">\n",
       "  <thead>\n",
       "    <tr style=\"text-align: right;\">\n",
       "      <th></th>\n",
       "      <th>title</th>\n",
       "      <th>stopwords_removed</th>\n",
       "    </tr>\n",
       "  </thead>\n",
       "  <tbody>\n",
       "    <tr>\n",
       "      <th>0</th>\n",
       "      <td>American Football is Considered a Sport | Misbar</td>\n",
       "      <td>[American, Football, Considered, Sport, Misbar...</td>\n",
       "    </tr>\n",
       "    <tr>\n",
       "      <th>1</th>\n",
       "      <td>वायरल पोस्ट का दावा, नीता अंबानी को दिया गया ख...</td>\n",
       "      <td>[]</td>\n",
       "    </tr>\n",
       "    <tr>\n",
       "      <th>2</th>\n",
       "      <td>Did Biden's Exec Order Say Schools Should Incl...</td>\n",
       "      <td>[Did, Biden, Exec, Order, Say, Schools, Should...</td>\n",
       "    </tr>\n",
       "    <tr>\n",
       "      <th>3</th>\n",
       "      <td>Was Lanka Premier League The Biggest Sporting ...</td>\n",
       "      <td>[Was, Lanka, Premier, League, The, Biggest, Sp...</td>\n",
       "    </tr>\n",
       "    <tr>\n",
       "      <th>4</th>\n",
       "      <td>PV Sindhu Didn't Announce Retirement From Spor...</td>\n",
       "      <td>[PV, Sindhu, Did, Announce, Retirement, From, ...</td>\n",
       "    </tr>\n",
       "  </tbody>\n",
       "</table>\n",
       "</div>"
      ],
      "text/plain": [
       "                                               title  \\\n",
       "0   American Football is Considered a Sport | Misbar   \n",
       "1  वायरल पोस्ट का दावा, नीता अंबानी को दिया गया ख...   \n",
       "2  Did Biden's Exec Order Say Schools Should Incl...   \n",
       "3  Was Lanka Premier League The Biggest Sporting ...   \n",
       "4  PV Sindhu Didn't Announce Retirement From Spor...   \n",
       "\n",
       "                                   stopwords_removed  \n",
       "0  [American, Football, Considered, Sport, Misbar...  \n",
       "1                                                 []  \n",
       "2  [Did, Biden, Exec, Order, Say, Schools, Should...  \n",
       "3  [Was, Lanka, Premier, League, The, Biggest, Sp...  \n",
       "4  [PV, Sindhu, Did, Announce, Retirement, From, ...  "
      ]
     },
     "execution_count": 24,
     "metadata": {},
     "output_type": "execute_result"
    }
   ],
   "source": [
    "data['stopwords_removed'] = data.apply(lambda x: remove_stopwords(x['tokenized']), axis=1)\n",
    "data[['title', 'stopwords_removed']].head()"
   ]
  },
  {
   "cell_type": "code",
   "execution_count": 25,
   "id": "55af34d6",
   "metadata": {},
   "outputs": [],
   "source": [
    "# Apply stemming\n",
    "\n",
    "def apply_stemming(tokenized_column):\n",
    "    \n",
    "    stemmer = PorterStemmer() \n",
    "    return [stemmer.stem(word).lower() for word in tokenized_column]"
   ]
  },
  {
   "cell_type": "code",
   "execution_count": null,
   "id": "af262b90",
   "metadata": {},
   "outputs": [],
   "source": [
    "data['porter_stemmed'] = data.apply(lambda x: apply_stemming(x['stopwords_removed']), axis=1)\n",
    "data[['title', 'porter_stemmed']].head()"
   ]
  },
  {
   "cell_type": "code",
   "execution_count": null,
   "id": "7bc621e9",
   "metadata": {},
   "outputs": [],
   "source": [
    "# Rejoin words\n",
    "\n",
    "def rejoin_words(tokenized_column):\n",
    "    return ( \" \".join(tokenized_column))"
   ]
  },
  {
   "cell_type": "code",
   "execution_count": null,
   "id": "a09b6341",
   "metadata": {},
   "outputs": [],
   "source": [
    "data['all_text'] = data.apply(lambda x: rejoin_words(x['porter_stemmed']), axis=1)\n",
    "data[['title', 'all_text']].head()"
   ]
  },
  {
   "cell_type": "code",
   "execution_count": null,
   "id": "64672eae",
   "metadata": {},
   "outputs": [],
   "source": [
    "# Dependend and independed variable\n",
    "X = data['all_text']\n",
    "y = data['label']"
   ]
  },
  {
   "cell_type": "markdown",
   "id": "e8ef4e77",
   "metadata": {},
   "source": [
    "## Feature Vectorization"
   ]
  },
  {
   "cell_type": "code",
   "execution_count": null,
   "id": "350c6c2a",
   "metadata": {},
   "outputs": [],
   "source": [
    "# Converting  textual data to numerical data\n",
    "\n",
    "vectorizer = TfidfVectorizer()\n",
    "vectorizer.fit(X)\n",
    "\n",
    "X = vectorizer.transform(X)\n",
    "\n"
   ]
  },
  {
   "cell_type": "code",
   "execution_count": null,
   "id": "1ac328d8",
   "metadata": {},
   "outputs": [],
   "source": [
    "print(X)"
   ]
  },
  {
   "cell_type": "markdown",
   "id": "60d8d8d2",
   "metadata": {},
   "source": [
    "## Train-Test Split"
   ]
  },
  {
   "cell_type": "code",
   "execution_count": null,
   "id": "336e9aae",
   "metadata": {},
   "outputs": [],
   "source": [
    "# spliting dataset \n",
    "\n",
    "X_train, X_test, y_train, y_test = train_test_split(X, y, test_size=0.3, random_state=1, shuffle=True)"
   ]
  },
  {
   "cell_type": "markdown",
   "id": "f8843ad9",
   "metadata": {},
   "source": [
    "# Traning model\n",
    "\n",
    "## 1 . Logistic regression\n",
    "\n"
   ]
  },
  {
   "cell_type": "code",
   "execution_count": null,
   "id": "6e95609c",
   "metadata": {},
   "outputs": [],
   "source": [
    "from sklearn.linear_model import LogisticRegression\n",
    "\n",
    "\n",
    "logistic_model = LogisticRegression(random_state=1)\n",
    "logistic_model.fit(X_train,y_train)\n",
    "\n",
    "pred_test_logistic=logistic_model.predict(X_test)\n",
    "\n"
   ]
  },
  {
   "cell_type": "code",
   "execution_count": null,
   "id": "e9d0bc93",
   "metadata": {},
   "outputs": [],
   "source": [
    "# accuracy score on training data\n",
    "\n",
    "score_logistic =accuracy_score(pred_test_logistic,y_test)*100\n",
    "print(\"Accuracy score:\",score_logistic)\n",
    "\n",
    "\n",
    "# confusion matrix\n",
    "print(\"Confusion matrix:\\n\")\n",
    "confusion_matrix(y_test,pred_test_logistic )\n",
    "print(confusion_matrix(y_test,pred_test_logistic))\n",
    "\n",
    "#classification report for logistic regression model\n",
    "print(\"\\nClassification report:\\n\")\n",
    "print(classification_report(y_test,pred_test_logistic))"
   ]
  },
  {
   "cell_type": "markdown",
   "id": "072bdd48",
   "metadata": {},
   "source": [
    "## 2. Decision Tree"
   ]
  },
  {
   "cell_type": "code",
   "execution_count": null,
   "id": "3f9ebc15",
   "metadata": {},
   "outputs": [],
   "source": [
    "# Decision Tree\n",
    "from sklearn.tree import DecisionTreeClassifier\n",
    "\n",
    "tree_model = DecisionTreeClassifier(random_state=1)\n",
    "tree_model.fit(X_train,y_train)\n",
    "\n",
    "pred_test_tree=tree_model.predict(X_test)\n"
   ]
  },
  {
   "cell_type": "code",
   "execution_count": null,
   "id": "47ce8e38",
   "metadata": {},
   "outputs": [],
   "source": [
    "# Model Accuracy\n",
    "score_tree =accuracy_score(pred_test_tree,y_test)*100\n",
    "print(\"Accuracy score :\",score_tree)\n",
    "\n",
    "\n",
    "# confusion matrix\n",
    "print(\"Confusion matrix:\\n\")\n",
    "confusion_matrix(y_test,pred_test_tree )\n",
    "print(confusion_matrix(y_test,pred_test_tree))\n",
    "\n",
    "#classification report for logistic regression model\n",
    "print(\"\\nClassification report:\\n\")\n",
    "print(classification_report(y_test,pred_test_tree))"
   ]
  },
  {
   "cell_type": "markdown",
   "id": "79f351da",
   "metadata": {},
   "source": [
    "## 3. Random Forest"
   ]
  },
  {
   "cell_type": "code",
   "execution_count": null,
   "id": "76375b04",
   "metadata": {},
   "outputs": [],
   "source": [
    "# Random Forest\n",
    "from sklearn.ensemble import RandomForestClassifier"
   ]
  },
  {
   "cell_type": "code",
   "execution_count": null,
   "id": "66b12842",
   "metadata": {},
   "outputs": [],
   "source": [
    "forest_model = RandomForestClassifier(random_state=1,max_depth=10,n_estimators=50)\n",
    "forest_model.fit(X_train,y_train)\n",
    "\n",
    "pred_test_forest=forest_model.predict(X_test)\n"
   ]
  },
  {
   "cell_type": "code",
   "execution_count": null,
   "id": "26274177",
   "metadata": {},
   "outputs": [],
   "source": [
    "# Model Accuracy\n",
    "score_forest = accuracy_score(pred_test_forest,y_test)*100\n",
    "print(\"Accuracy score: \",score_forest)\n",
    "\n",
    "\n",
    "# confusion matrix\n",
    "print(\"confusion matrix:\\n\")\n",
    "confusion_matrix(y_test,pred_test_forest )\n",
    "print(confusion_matrix(y_test, pred_test_forest))\n",
    "\n",
    "\n",
    "#classification report for random forest model\n",
    "print(\"\\nclassification report:\\n\")\n",
    "print(classification_report(y_test,pred_test_forest ))\n"
   ]
  },
  {
   "cell_type": "markdown",
   "id": "b58597d1",
   "metadata": {},
   "source": [
    "## 4. KNN"
   ]
  },
  {
   "cell_type": "code",
   "execution_count": null,
   "id": "42c3e399",
   "metadata": {},
   "outputs": [],
   "source": [
    "# KNN\n",
    "from sklearn.neighbors import KNeighborsClassifier\n",
    "\n",
    "#  create model instance \n",
    "knn= KNeighborsClassifier(n_neighbors=22)\n",
    "\n",
    "#  Model Fitting\n",
    "knn=knn.fit(X_train, y_train)\n",
    "\n",
    "knn_pred = knn.predict(X_test)"
   ]
  },
  {
   "cell_type": "code",
   "execution_count": null,
   "id": "b19b025b",
   "metadata": {},
   "outputs": [],
   "source": [
    "# Model Accuracy\n",
    "\n",
    "knn_accuracy=(accuracy_score(y_test,knn_pred))*100\n",
    "print(\"Accuracy score:\",knn_accuracy)\n",
    "\n",
    "# confusion matrix\n",
    "print(\"Confusion matrix:\\n\")\n",
    "confusion_matrix(y_test, knn_pred)\n",
    "print(confusion_matrix(y_test,knn_pred))\n",
    "\n",
    "#classification report for knn model\n",
    "print(\"\\nClassification report:\\n\")\n",
    "print(classification_report(y_test,knn_pred ))"
   ]
  },
  {
   "cell_type": "markdown",
   "id": "2c95925a",
   "metadata": {},
   "source": []
  },
  {
   "cell_type": "code",
   "execution_count": null,
   "id": "7e7270a7",
   "metadata": {},
   "outputs": [],
   "source": []
  },
  {
   "cell_type": "code",
   "execution_count": null,
   "id": "e1cbb71f",
   "metadata": {},
   "outputs": [],
   "source": []
  },
  {
   "cell_type": "code",
   "execution_count": null,
   "id": "40229ac3",
   "metadata": {},
   "outputs": [],
   "source": [
    "\n"
   ]
  },
  {
   "cell_type": "markdown",
   "id": "bc4c7270",
   "metadata": {},
   "source": [
    "# Making a predictive System"
   ]
  },
  {
   "cell_type": "code",
   "execution_count": null,
   "id": "f55810a8",
   "metadata": {},
   "outputs": [],
   "source": [
    "X_new = X_test[0]\n",
    "\n",
    "\n",
    "prediction = logistic_model.predict(X_new)\n",
    "print(prediction)\n",
    "\n",
    "\n",
    "if prediction[0]==0):\n",
    "    print(\"The news is real\")\n",
    "else:\n",
    "    print(\"The news is fake\")"
   ]
  },
  {
   "cell_type": "code",
   "execution_count": null,
   "id": "81585bf1",
   "metadata": {},
   "outputs": [],
   "source": [
    "print(y_test[0])"
   ]
  }
 ],
 "metadata": {
  "kernelspec": {
   "display_name": "Python 3 (ipykernel)",
   "language": "python",
   "name": "python3"
  },
  "language_info": {
   "codemirror_mode": {
    "name": "ipython",
    "version": 3
   },
   "file_extension": ".py",
   "mimetype": "text/x-python",
   "name": "python",
   "nbconvert_exporter": "python",
   "pygments_lexer": "ipython3",
   "version": "3.9.7"
  }
 },
 "nbformat": 4,
 "nbformat_minor": 5
}
